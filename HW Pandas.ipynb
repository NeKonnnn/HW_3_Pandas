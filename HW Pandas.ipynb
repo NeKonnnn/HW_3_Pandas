{
 "cells": [
  {
   "cell_type": "markdown",
   "id": "f0f7ac62",
   "metadata": {},
   "source": [
    "### Все файлы у нас лежат в zip, поэтому воспользуемся для начала пакетом, который поможет посмотреть, что в них находится."
   ]
  },
  {
   "cell_type": "code",
   "execution_count": 1,
   "id": "eecd98ff",
   "metadata": {},
   "outputs": [],
   "source": [
    "# импортируем библиотеки\n",
    "from zipfile import ZipFile\n",
    "import datetime\n",
    "from tqdm import tqdm\n",
    "import math\n",
    "import random\n",
    "\n",
    "import pandas as pd\n",
    "import numpy as np\n",
    "\n",
    "import matplotlib as mpl\n",
    "import matplotlib.pyplot as plt\n",
    "import seaborn as sns\n",
    "from matplotlib.colors import LinearSegmentedColormap\n",
    "\n",
    "import warnings\n",
    "warnings.filterwarnings('ignore')"
   ]
  },
  {
   "cell_type": "markdown",
   "id": "6028f872",
   "metadata": {},
   "source": [
    "### Просмотр содержимого zip файла."
   ]
  },
  {
   "cell_type": "code",
   "execution_count": 2,
   "id": "418cea27",
   "metadata": {},
   "outputs": [
    {
     "name": "stderr",
     "output_type": "stream",
     "text": [
      "100%|███████████████████████████████████████████████████████████████████████████████████| 3/3 [00:00<00:00, 753.96it/s]"
     ]
    },
    {
     "name": "stdout",
     "output_type": "stream",
     "text": [
      "Filename: questions.csv\n",
      "Modified: 2020-10-14 17:45:04\n",
      "Normal size: 296161 bytes\n",
      "Compressed size: 80751 bytes\n",
      "--------------------\n",
      "Filename: train.csv\n",
      "Modified: 2020-10-14 17:46:20\n",
      "Normal size: 5846760913 bytes\n",
      "Compressed size: 1349856793 bytes\n",
      "--------------------\n",
      "Filename: lectures.csv\n",
      "Modified: 2020-10-14 17:45:04\n",
      "Normal size: 9703 bytes\n",
      "Compressed size: 2471 bytes\n",
      "--------------------\n"
     ]
    },
    {
     "name": "stderr",
     "output_type": "stream",
     "text": [
      "\n"
     ]
    }
   ],
   "source": [
    "# смотрим какие размеры файлов в zip у нас есть\n",
    "# также можно посмотреть, когда были изменения\n",
    "zipfile = 'riiid-test-answer-prediction.zip'\n",
    "with ZipFile(zipfile, mode='r') as archive:\n",
    "    for info in tqdm(archive.infolist()):\n",
    "        print(f\"Filename: {info.filename}\")\n",
    "        print(f\"Modified: {datetime.datetime(*info.date_time)}\")\n",
    "        print(f\"Normal size: {info.file_size} bytes\")\n",
    "        print(f\"Compressed size: {info.compress_size} bytes\")\n",
    "        print(\"-\" * 20)"
   ]
  },
  {
   "cell_type": "code",
   "execution_count": 3,
   "id": "465cefb0",
   "metadata": {},
   "outputs": [
    {
     "data": {
      "text/plain": [
       "['questions.csv', 'train.csv', 'lectures.csv']"
      ]
     },
     "execution_count": 3,
     "metadata": {},
     "output_type": "execute_result"
    }
   ],
   "source": [
    "# смотрим какие вообще файлы лежат в zip\n",
    "archive = 'riiid-test-answer-prediction.zip'\n",
    "zip_file = ZipFile(archive, mode='r')\n",
    "[text_file.filename for text_file in zip_file.infolist()]"
   ]
  },
  {
   "cell_type": "markdown",
   "id": "5dff1c98",
   "metadata": {},
   "source": [
    "### Нам понадобятся 3 файла:\n",
    "- train.csv;\n",
    "- questions.csv;\n",
    "- lectures.csv."
   ]
  },
  {
   "cell_type": "markdown",
   "id": "22dd255e",
   "metadata": {},
   "source": [
    "# Описание данных\n",
    "\n",
    "## train.csv\n",
    "\n",
    "- `row_id`: (int64) ИД строки.\n",
    "- `timestamp`: (int64) время в миллисекундах между этим взаимодействием с пользователем и первым завершением события от этого пользователя.\n",
    "- `user_id`: (int32) ИД пользователя.\n",
    "- `content_id`: (int16) ИД для взаимодействия с пользователем\n",
    "- `content_type_id`: (int8) 0, если событием был вопрос, заданный пользователю, 1, если событием был просмотр пользователем лекции.\n",
    "- `task_container_id`: (int16) ИД для пакета вопросов или лекций. Например, пользователь может увидеть три вопроса подряд, прежде чем увидит пояснения к любому из них. Все эти трое будут иметь общий идентификатор task_container_id.\n",
    "- `user_answer`: (int8) ответ пользователя на вопрос, если он есть. Прочитайте -1 как ноль, для лекций.\n",
    "- `answered_correctly`: (int8) если пользователь ответил правильно. Прочитайте -1 как ноль, для лекций.\n",
    "- `prior_question_elapsed_time`: (float32) Среднее время в миллисекундах, затрачиваемое пользователем на ответ на каждый вопрос из предыдущей группы вопросов, без учета промежуточных лекций. Имеет значение null для первого набора вопросов пользователя или лекции. Обратите внимание, что время — это среднее время, затраченное пользователем на решение каждого вопроса в предыдущем наборе.\n",
    "- `prior_question_had_explanation`: (bool) Независимо от того, видел ли пользователь объяснение и правильный ответ после ответа на предыдущий пакет вопросов, игнорируя любые промежуточные лекции. Это значение является общим для одного пакета вопросов и равно нулю для первого пакета вопросов или лекции пользователя. Обычно первые несколько вопросов, которые видит пользователь, были частью диагностического теста на борту, где они не получали никакой обратной связи."
   ]
  },
  {
   "cell_type": "markdown",
   "id": "38c650ea",
   "metadata": {},
   "source": [
    "## questions.csv: метаданные для вопросов, заданных пользователям.\n",
    "\n",
    "- `question_id`:внешний ключ для столбца content_id, когда тип содержимого — вопрос (0).\n",
    "- `bundle_id`: код, для которого вопросы подаются вместе.\n",
    "- `correct_answer`: ответ на вопрос. Можно сравнить со столбцом train user_answer, чтобы проверить, был ли пользователь прав.\n",
    "- `part`:соответствующий раздел теста TOEIC.\n",
    "- `tags`: один или несколько подробных кодов тегов для вопроса. Значение тегов не будет предоставлено, но этих кодов достаточно дл"
   ]
  },
  {
   "cell_type": "markdown",
   "id": "425cc237",
   "metadata": {},
   "source": [
    "## lectures.csv: метаданные для лекций, просмотренных пользователями по мере их обучения.\n",
    "\n",
    "- `lectures.csv`: метаданные для лекций, просмотренных пользователями по мере их обучения.\n",
    "- `lecture_id`: внешний ключ для столбца content_id, когда тип контента — лекция (1).\n",
    "- `part`: код категории верхнего уровня для лекции.\n",
    "- `tag`: один код тега для лекции. Значение тегов не будет предоставлено, но этих кодов достаточно для группировки лекций.\n",
    "- `type_of`: краткое описание основной цели лекции"
   ]
  },
  {
   "cell_type": "markdown",
   "id": "ecd7f7ca",
   "metadata": {},
   "source": [
    "### Формируем DataFrames"
   ]
  },
  {
   "cell_type": "code",
   "execution_count": 4,
   "id": "d1524168",
   "metadata": {},
   "outputs": [
    {
     "data": {
      "text/html": [
       "<div>\n",
       "<style scoped>\n",
       "    .dataframe tbody tr th:only-of-type {\n",
       "        vertical-align: middle;\n",
       "    }\n",
       "\n",
       "    .dataframe tbody tr th {\n",
       "        vertical-align: top;\n",
       "    }\n",
       "\n",
       "    .dataframe thead th {\n",
       "        text-align: right;\n",
       "    }\n",
       "</style>\n",
       "<table border=\"1\" class=\"dataframe\">\n",
       "  <thead>\n",
       "    <tr style=\"text-align: right;\">\n",
       "      <th></th>\n",
       "      <th>row_id</th>\n",
       "      <th>timestamp</th>\n",
       "      <th>user_id</th>\n",
       "      <th>content_id</th>\n",
       "      <th>content_type_id</th>\n",
       "      <th>task_container_id</th>\n",
       "      <th>user_answer</th>\n",
       "      <th>answered_correctly</th>\n",
       "      <th>prior_question_elapsed_time</th>\n",
       "      <th>prior_question_had_explanation</th>\n",
       "    </tr>\n",
       "  </thead>\n",
       "  <tbody>\n",
       "    <tr>\n",
       "      <th>0</th>\n",
       "      <td>10</td>\n",
       "      <td>255381</td>\n",
       "      <td>115</td>\n",
       "      <td>152</td>\n",
       "      <td>0</td>\n",
       "      <td>10</td>\n",
       "      <td>2</td>\n",
       "      <td>0</td>\n",
       "      <td>17000.0</td>\n",
       "      <td>False</td>\n",
       "    </tr>\n",
       "    <tr>\n",
       "      <th>1</th>\n",
       "      <td>12</td>\n",
       "      <td>302994</td>\n",
       "      <td>115</td>\n",
       "      <td>108</td>\n",
       "      <td>0</td>\n",
       "      <td>12</td>\n",
       "      <td>1</td>\n",
       "      <td>0</td>\n",
       "      <td>23000.0</td>\n",
       "      <td>False</td>\n",
       "    </tr>\n",
       "  </tbody>\n",
       "</table>\n",
       "</div>"
      ],
      "text/plain": [
       "   row_id  timestamp  user_id  content_id  content_type_id  task_container_id  \\\n",
       "0      10     255381      115         152                0                 10   \n",
       "1      12     302994      115         108                0                 12   \n",
       "\n",
       "   user_answer  answered_correctly  prior_question_elapsed_time  \\\n",
       "0            2                   0                      17000.0   \n",
       "1            1                   0                      23000.0   \n",
       "\n",
       "  prior_question_had_explanation  \n",
       "0                          False  \n",
       "1                          False  "
      ]
     },
     "execution_count": 4,
     "metadata": {},
     "output_type": "execute_result"
    }
   ],
   "source": [
    "# train.csv\n",
    "# файл огромный, сократим его до считывания 10-20% строк\n",
    "dtypes = {'row_id': 'int64'  \n",
    "          ,'timestamp': 'int64'  \n",
    "          ,'user_id': 'int64'  \n",
    "          ,'content_id': 'int64'  \n",
    "          ,'content_type_id': 'int64'  \n",
    "          ,'task_container_id': 'int64'  \n",
    "          ,'user_answer': 'int64'  \n",
    "          ,'answered_correctly': 'int64'  \n",
    "          ,'prior_question_elapsed_time': 'float64'\n",
    "          ,'prior_question_had_explanation': 'object' \n",
    "         }\n",
    "p = 0.1\n",
    "random.seed(11)\n",
    "df_train = pd.read_csv(ZipFile(zipfile, mode='r').open('train.csv') \n",
    "                                                       ,dtype=dtypes\n",
    "                                                       ,header=0\n",
    "                                                       ,skiprows=lambda i: i>0 and random.random()>p)\n",
    "df_train.head(2)"
   ]
  },
  {
   "cell_type": "code",
   "execution_count": 5,
   "id": "5f3135ba",
   "metadata": {},
   "outputs": [
    {
     "data": {
      "text/html": [
       "<div>\n",
       "<style scoped>\n",
       "    .dataframe tbody tr th:only-of-type {\n",
       "        vertical-align: middle;\n",
       "    }\n",
       "\n",
       "    .dataframe tbody tr th {\n",
       "        vertical-align: top;\n",
       "    }\n",
       "\n",
       "    .dataframe thead th {\n",
       "        text-align: right;\n",
       "    }\n",
       "</style>\n",
       "<table border=\"1\" class=\"dataframe\">\n",
       "  <thead>\n",
       "    <tr style=\"text-align: right;\">\n",
       "      <th></th>\n",
       "      <th>question_id</th>\n",
       "      <th>bundle_id</th>\n",
       "      <th>correct_answer</th>\n",
       "      <th>part</th>\n",
       "      <th>tags</th>\n",
       "    </tr>\n",
       "  </thead>\n",
       "  <tbody>\n",
       "    <tr>\n",
       "      <th>0</th>\n",
       "      <td>0</td>\n",
       "      <td>0</td>\n",
       "      <td>0</td>\n",
       "      <td>1</td>\n",
       "      <td>51 131 162 38</td>\n",
       "    </tr>\n",
       "    <tr>\n",
       "      <th>1</th>\n",
       "      <td>1</td>\n",
       "      <td>1</td>\n",
       "      <td>1</td>\n",
       "      <td>1</td>\n",
       "      <td>131 36 81</td>\n",
       "    </tr>\n",
       "    <tr>\n",
       "      <th>2</th>\n",
       "      <td>2</td>\n",
       "      <td>2</td>\n",
       "      <td>0</td>\n",
       "      <td>1</td>\n",
       "      <td>131 101 162 92</td>\n",
       "    </tr>\n",
       "  </tbody>\n",
       "</table>\n",
       "</div>"
      ],
      "text/plain": [
       "   question_id  bundle_id  correct_answer  part            tags\n",
       "0            0          0               0     1   51 131 162 38\n",
       "1            1          1               1     1       131 36 81\n",
       "2            2          2               0     1  131 101 162 92"
      ]
     },
     "execution_count": 5,
     "metadata": {},
     "output_type": "execute_result"
    }
   ],
   "source": [
    "# questions.csv\n",
    "\n",
    "df_questions = pd.read_csv(ZipFile(zipfile, mode='r').open('questions.csv'))\n",
    "df_questions.head(3)"
   ]
  },
  {
   "cell_type": "code",
   "execution_count": 6,
   "id": "4111b7b8",
   "metadata": {},
   "outputs": [
    {
     "data": {
      "text/html": [
       "<div>\n",
       "<style scoped>\n",
       "    .dataframe tbody tr th:only-of-type {\n",
       "        vertical-align: middle;\n",
       "    }\n",
       "\n",
       "    .dataframe tbody tr th {\n",
       "        vertical-align: top;\n",
       "    }\n",
       "\n",
       "    .dataframe thead th {\n",
       "        text-align: right;\n",
       "    }\n",
       "</style>\n",
       "<table border=\"1\" class=\"dataframe\">\n",
       "  <thead>\n",
       "    <tr style=\"text-align: right;\">\n",
       "      <th></th>\n",
       "      <th>lecture_id</th>\n",
       "      <th>tag</th>\n",
       "      <th>part</th>\n",
       "      <th>type_of</th>\n",
       "    </tr>\n",
       "  </thead>\n",
       "  <tbody>\n",
       "    <tr>\n",
       "      <th>0</th>\n",
       "      <td>89</td>\n",
       "      <td>159</td>\n",
       "      <td>5</td>\n",
       "      <td>concept</td>\n",
       "    </tr>\n",
       "    <tr>\n",
       "      <th>1</th>\n",
       "      <td>100</td>\n",
       "      <td>70</td>\n",
       "      <td>1</td>\n",
       "      <td>concept</td>\n",
       "    </tr>\n",
       "    <tr>\n",
       "      <th>2</th>\n",
       "      <td>185</td>\n",
       "      <td>45</td>\n",
       "      <td>6</td>\n",
       "      <td>concept</td>\n",
       "    </tr>\n",
       "  </tbody>\n",
       "</table>\n",
       "</div>"
      ],
      "text/plain": [
       "   lecture_id  tag  part  type_of\n",
       "0          89  159     5  concept\n",
       "1         100   70     1  concept\n",
       "2         185   45     6  concept"
      ]
     },
     "execution_count": 6,
     "metadata": {},
     "output_type": "execute_result"
    }
   ],
   "source": [
    "# lectures\n",
    "\n",
    "df_lectures = pd.read_csv(ZipFile(zipfile, mode='r').open('lectures.csv'))\n",
    "df_lectures.head(3)"
   ]
  },
  {
   "cell_type": "markdown",
   "id": "35026c6c",
   "metadata": {},
   "source": [
    "### Приступаем к анализу данных."
   ]
  },
  {
   "cell_type": "code",
   "execution_count": 7,
   "id": "93d2cc29",
   "metadata": {},
   "outputs": [
    {
     "name": "stdout",
     "output_type": "stream",
     "text": [
      "<class 'pandas.core.frame.DataFrame'>\n",
      "RangeIndex: 10123715 entries, 0 to 10123714\n",
      "Data columns (total 10 columns):\n",
      " #   Column                          Dtype  \n",
      "---  ------                          -----  \n",
      " 0   row_id                          int64  \n",
      " 1   timestamp                       int64  \n",
      " 2   user_id                         int64  \n",
      " 3   content_id                      int64  \n",
      " 4   content_type_id                 int64  \n",
      " 5   task_container_id               int64  \n",
      " 6   user_answer                     int64  \n",
      " 7   answered_correctly              int64  \n",
      " 8   prior_question_elapsed_time     float64\n",
      " 9   prior_question_had_explanation  object \n",
      "dtypes: float64(1), int64(8), object(1)\n",
      "memory usage: 772.4+ MB\n"
     ]
    }
   ],
   "source": [
    "# узнаем какие типы данных у нас есть\n",
    "df_train.info()"
   ]
  },
  {
   "cell_type": "code",
   "execution_count": 8,
   "id": "24c2dac8",
   "metadata": {},
   "outputs": [],
   "source": [
    "# чтобы наши колонки соответствовали типам \n",
    "# , заявленным в описании, преобразуем их.\n",
    "df_train['user_id'] = df_train['user_id'].astype('int32')\n",
    "df_train['content_id'] = df_train['content_id'].astype('int16')\n",
    "df_train['content_type_id'] = df_train['content_type_id'].astype('int8')\n",
    "df_train['task_container_id'] = df_train['task_container_id'].astype('int16')\n",
    "df_train['user_answer'] = df_train['user_answer'].astype('int8')\n",
    "df_train['answered_correctly'] = df_train['answered_correctly'].astype('int8')\n",
    "df_train['prior_question_elapsed_time'] = df_train['prior_question_elapsed_time'].astype('float32')\n",
    "df_train['prior_question_had_explanation'] = df_train['prior_question_had_explanation'].astype('bool')"
   ]
  },
  {
   "cell_type": "code",
   "execution_count": 9,
   "id": "6aa31b97",
   "metadata": {},
   "outputs": [
    {
     "name": "stderr",
     "output_type": "stream",
     "text": [
      "100%|██████████████████████████████████████████████████████████████████████████████████| 10/10 [00:00<00:00, 54.36it/s]"
     ]
    },
    {
     "name": "stdout",
     "output_type": "stream",
     "text": [
      "row_id - 0%\n",
      "timestamp - 0%\n",
      "user_id - 0%\n",
      "content_id - 0%\n",
      "content_type_id - 0%\n",
      "task_container_id - 0%\n",
      "user_answer - 0%\n",
      "answered_correctly - 0%\n",
      "prior_question_elapsed_time - 2%\n",
      "prior_question_had_explanation - 0%\n"
     ]
    },
    {
     "name": "stderr",
     "output_type": "stream",
     "text": [
      "\n"
     ]
    }
   ],
   "source": [
    "# посмотрим сколько всего пропусков по всем столбцам.\n",
    "# составим процентный список пропущенных значений\n",
    "for col in tqdm(df_train.columns):\n",
    "    pct_missing = np.mean(df_train[col].isnull())\n",
    "    print('{} - {}%'.format(col, round(pct_missing*100)))"
   ]
  },
  {
   "cell_type": "code",
   "execution_count": 10,
   "id": "3f78da73",
   "metadata": {},
   "outputs": [
    {
     "name": "stderr",
     "output_type": "stream",
     "text": [
      "100%|██████████████████████████████████████████████████████████████████████████████████| 10/10 [00:00<00:00, 67.58it/s]\n"
     ]
    },
    {
     "name": "stdout",
     "output_type": "stream",
     "text": [
      "created missing indicator for: prior_question_elapsed_time\n"
     ]
    },
    {
     "data": {
      "text/plain": [
       "<AxesSubplot:xlabel='index'>"
      ]
     },
     "execution_count": 10,
     "metadata": {},
     "output_type": "execute_result"
    },
    {
     "data": {
      "image/png": "[encoded data removed]",
      "text/plain": [
       "<Figure size 432x288 with 1 Axes>"
      ]
     },
     "metadata": {
      "needs_background": "light"
     },
     "output_type": "display_data"
    }
   ],
   "source": [
    "# также можно построить гистограмму пропущенных значений\n",
    "# сначала создаем индикатор для признаков с пропущенными данными\n",
    "for col in tqdm(df_train.columns):\n",
    "    missing = df_train[col].isnull()\n",
    "    num_missing = np.sum(missing)\n",
    "    \n",
    "    if num_missing > 0:  \n",
    "        print('created missing indicator for: {}'.format(col))\n",
    "        df_train['{}_ismissing'.format(col)] = missing\n",
    "\n",
    "\n",
    "# затем на основе индикатора строим гистограмму\n",
    "ismissing_cols = [col for col in df_train.columns if 'ismissing' in col]\n",
    "df_train['num_missing'] = df_train[ismissing_cols].sum(axis=1)\n",
    "\n",
    "df_train['num_missing'].value_counts().reset_index().sort_values(by='index').plot.bar(x='index', y='num_missing')"
   ]
  },
  {
   "cell_type": "markdown",
   "id": "7a3f55c7",
   "metadata": {},
   "source": [
    "Исходя из целей анализа, с пропущенными значениями нужно было бы что-то делать. Так как пропущенных значений всего 2%, как правило, в таких случаях заменяют пропущенное значение на нужный показатель, обычно берут средней или медиану для устранения пропусков в данных. При этом, пропуски у нас содержаться в столбце \"среднее время, затрачиваемое пользователем на ответ на каждый вопрос из предыдущей группы вопросов, без учета промежуточных лекций\". Можем предположить, что студент не отвечал на вопрос и не тратил на него время. При таком подходе, будет целесообразно заменить пропущенное значение на \"0\"."
   ]
  },
  {
   "cell_type": "code",
   "execution_count": 11,
   "id": "c94cef66",
   "metadata": {},
   "outputs": [
    {
     "data": {
      "text/plain": [
       "row_id                                   0\n",
       "timestamp                                0\n",
       "user_id                                  0\n",
       "content_id                               0\n",
       "content_type_id                          0\n",
       "task_container_id                        0\n",
       "user_answer                              0\n",
       "answered_correctly                       0\n",
       "prior_question_elapsed_time              0\n",
       "prior_question_had_explanation           0\n",
       "prior_question_elapsed_time_ismissing    0\n",
       "num_missing                              0\n",
       "dtype: int64"
      ]
     },
     "execution_count": 11,
     "metadata": {},
     "output_type": "execute_result"
    }
   ],
   "source": [
    "df_train[\"prior_question_elapsed_time\"].fillna(0, inplace = True)\n",
    "df_train.isnull().sum()"
   ]
  },
  {
   "cell_type": "code",
   "execution_count": 12,
   "id": "981c0d2f",
   "metadata": {},
   "outputs": [],
   "source": [
    "# #смотрим на распределение всех признаков\n",
    "# spec = mpl.gridspec.GridSpec(\n",
    "# ncols=3, nrows=20, height_ratios=[1, 4] * 10, hspace = 0.55\n",
    "# )\n",
    "\n",
    "# fig=plt.figure(figsize=(18, 60))\n",
    "\n",
    "# for i in range(5):\n",
    "#     for j in range(3):\n",
    "#         ax=fig.add_subplot(spec[6*i+j])\n",
    "#         sns.boxplot(data=df_train,\n",
    "#                    x=df_train.columns[3*i+j],\n",
    "#                    palette='Set2', \n",
    "#                    ax=ax).set(xlabel=None)\n",
    "        \n",
    "#         ax=fig.add_subplot(spec[6*i+j+3])\n",
    "#         sns.histplot(data=df_train,\n",
    "#                    x=df_train.columns[3*i+j],\n",
    "#                    kde=True, ax=ax, stat='probability',\n",
    "#                    palette='Set2').set(ylabel=None)\n",
    "# plt.show()"
   ]
  },
  {
   "cell_type": "code",
   "execution_count": 13,
   "id": "350e0194",
   "metadata": {},
   "outputs": [
    {
     "data": {
      "text/plain": [
       "row_id                                   1\n",
       "timestamp                                1\n",
       "user_id                                  1\n",
       "content_id                               1\n",
       "content_type_id                          1\n",
       "task_container_id                        1\n",
       "user_answer                              1\n",
       "answered_correctly                       1\n",
       "prior_question_elapsed_time              1\n",
       "prior_question_had_explanation           1\n",
       "prior_question_elapsed_time_ismissing    1\n",
       "num_missing                              1\n",
       "dtype: int64"
      ]
     },
     "execution_count": 13,
     "metadata": {},
     "output_type": "execute_result"
    }
   ],
   "source": [
    "df_train.columns.value_counts()"
   ]
  },
  {
   "cell_type": "code",
   "execution_count": 14,
   "id": "62216f7f",
   "metadata": {},
   "outputs": [
    {
     "data": {
      "text/html": [
       "<div>\n",
       "<style scoped>\n",
       "    .dataframe tbody tr th:only-of-type {\n",
       "        vertical-align: middle;\n",
       "    }\n",
       "\n",
       "    .dataframe tbody tr th {\n",
       "        vertical-align: top;\n",
       "    }\n",
       "\n",
       "    .dataframe thead th {\n",
       "        text-align: right;\n",
       "    }\n",
       "</style>\n",
       "<table border=\"1\" class=\"dataframe\">\n",
       "  <thead>\n",
       "    <tr style=\"text-align: right;\">\n",
       "      <th></th>\n",
       "      <th>row_id</th>\n",
       "      <th>timestamp</th>\n",
       "      <th>user_id</th>\n",
       "      <th>content_id</th>\n",
       "      <th>content_type_id</th>\n",
       "      <th>task_container_id</th>\n",
       "      <th>user_answer</th>\n",
       "      <th>answered_correctly</th>\n",
       "      <th>prior_question_elapsed_time</th>\n",
       "      <th>num_missing</th>\n",
       "    </tr>\n",
       "  </thead>\n",
       "  <tbody>\n",
       "    <tr>\n",
       "      <th>count</th>\n",
       "      <td>1.012372e+07</td>\n",
       "      <td>1.012372e+07</td>\n",
       "      <td>1.012372e+07</td>\n",
       "      <td>1.012372e+07</td>\n",
       "      <td>1.012372e+07</td>\n",
       "      <td>1.012372e+07</td>\n",
       "      <td>1.012372e+07</td>\n",
       "      <td>1.012372e+07</td>\n",
       "      <td>1.012372e+07</td>\n",
       "      <td>1.012372e+07</td>\n",
       "    </tr>\n",
       "    <tr>\n",
       "      <th>mean</th>\n",
       "      <td>5.061338e+07</td>\n",
       "      <td>7.712918e+09</td>\n",
       "      <td>1.076694e+09</td>\n",
       "      <td>5.218660e+03</td>\n",
       "      <td>1.935278e-02</td>\n",
       "      <td>9.041588e+02</td>\n",
       "      <td>1.376556e+00</td>\n",
       "      <td>6.252328e-01</td>\n",
       "      <td>2.467163e+04</td>\n",
       "      <td>2.324344e-02</td>\n",
       "    </tr>\n",
       "    <tr>\n",
       "      <th>std</th>\n",
       "      <td>2.922128e+07</td>\n",
       "      <td>1.161042e+10</td>\n",
       "      <td>6.196857e+08</td>\n",
       "      <td>3.865564e+03</td>\n",
       "      <td>1.377616e-01</td>\n",
       "      <td>1.358494e+03</td>\n",
       "      <td>1.192968e+00</td>\n",
       "      <td>5.225154e-01</td>\n",
       "      <td>1.982988e+04</td>\n",
       "      <td>1.506758e-01</td>\n",
       "    </tr>\n",
       "    <tr>\n",
       "      <th>min</th>\n",
       "      <td>1.000000e+01</td>\n",
       "      <td>0.000000e+00</td>\n",
       "      <td>1.150000e+02</td>\n",
       "      <td>0.000000e+00</td>\n",
       "      <td>0.000000e+00</td>\n",
       "      <td>0.000000e+00</td>\n",
       "      <td>-1.000000e+00</td>\n",
       "      <td>-1.000000e+00</td>\n",
       "      <td>0.000000e+00</td>\n",
       "      <td>0.000000e+00</td>\n",
       "    </tr>\n",
       "    <tr>\n",
       "      <th>25%</th>\n",
       "      <td>2.531415e+07</td>\n",
       "      <td>5.243064e+08</td>\n",
       "      <td>5.409521e+08</td>\n",
       "      <td>2.063000e+03</td>\n",
       "      <td>0.000000e+00</td>\n",
       "      <td>1.050000e+02</td>\n",
       "      <td>0.000000e+00</td>\n",
       "      <td>0.000000e+00</td>\n",
       "      <td>1.500000e+04</td>\n",
       "      <td>0.000000e+00</td>\n",
       "    </tr>\n",
       "    <tr>\n",
       "      <th>50%</th>\n",
       "      <td>5.060441e+07</td>\n",
       "      <td>2.674357e+09</td>\n",
       "      <td>1.071654e+09</td>\n",
       "      <td>5.026000e+03</td>\n",
       "      <td>0.000000e+00</td>\n",
       "      <td>3.820000e+02</td>\n",
       "      <td>1.000000e+00</td>\n",
       "      <td>1.000000e+00</td>\n",
       "      <td>2.100000e+04</td>\n",
       "      <td>0.000000e+00</td>\n",
       "    </tr>\n",
       "    <tr>\n",
       "      <th>75%</th>\n",
       "      <td>7.591964e+07</td>\n",
       "      <td>9.928486e+09</td>\n",
       "      <td>1.615726e+09</td>\n",
       "      <td>7.425000e+03</td>\n",
       "      <td>0.000000e+00</td>\n",
       "      <td>1.093000e+03</td>\n",
       "      <td>3.000000e+00</td>\n",
       "      <td>1.000000e+00</td>\n",
       "      <td>2.900000e+04</td>\n",
       "      <td>0.000000e+00</td>\n",
       "    </tr>\n",
       "    <tr>\n",
       "      <th>max</th>\n",
       "      <td>1.012303e+08</td>\n",
       "      <td>8.719328e+10</td>\n",
       "      <td>2.147483e+09</td>\n",
       "      <td>3.273600e+04</td>\n",
       "      <td>1.000000e+00</td>\n",
       "      <td>9.999000e+03</td>\n",
       "      <td>3.000000e+00</td>\n",
       "      <td>1.000000e+00</td>\n",
       "      <td>3.000000e+05</td>\n",
       "      <td>1.000000e+00</td>\n",
       "    </tr>\n",
       "  </tbody>\n",
       "</table>\n",
       "</div>"
      ],
      "text/plain": [
       "             row_id     timestamp       user_id    content_id  \\\n",
       "count  1.012372e+07  1.012372e+07  1.012372e+07  1.012372e+07   \n",
       "mean   5.061338e+07  7.712918e+09  1.076694e+09  5.218660e+03   \n",
       "std    2.922128e+07  1.161042e+10  6.196857e+08  3.865564e+03   \n",
       "min    1.000000e+01  0.000000e+00  1.150000e+02  0.000000e+00   \n",
       "25%    2.531415e+07  5.243064e+08  5.409521e+08  2.063000e+03   \n",
       "50%    5.060441e+07  2.674357e+09  1.071654e+09  5.026000e+03   \n",
       "75%    7.591964e+07  9.928486e+09  1.615726e+09  7.425000e+03   \n",
       "max    1.012303e+08  8.719328e+10  2.147483e+09  3.273600e+04   \n",
       "\n",
       "       content_type_id  task_container_id   user_answer  answered_correctly  \\\n",
       "count     1.012372e+07       1.012372e+07  1.012372e+07        1.012372e+07   \n",
       "mean      1.935278e-02       9.041588e+02  1.376556e+00        6.252328e-01   \n",
       "std       1.377616e-01       1.358494e+03  1.192968e+00        5.225154e-01   \n",
       "min       0.000000e+00       0.000000e+00 -1.000000e+00       -1.000000e+00   \n",
       "25%       0.000000e+00       1.050000e+02  0.000000e+00        0.000000e+00   \n",
       "50%       0.000000e+00       3.820000e+02  1.000000e+00        1.000000e+00   \n",
       "75%       0.000000e+00       1.093000e+03  3.000000e+00        1.000000e+00   \n",
       "max       1.000000e+00       9.999000e+03  3.000000e+00        1.000000e+00   \n",
       "\n",
       "       prior_question_elapsed_time   num_missing  \n",
       "count                 1.012372e+07  1.012372e+07  \n",
       "mean                  2.467163e+04  2.324344e-02  \n",
       "std                   1.982988e+04  1.506758e-01  \n",
       "min                   0.000000e+00  0.000000e+00  \n",
       "25%                   1.500000e+04  0.000000e+00  \n",
       "50%                   2.100000e+04  0.000000e+00  \n",
       "75%                   2.900000e+04  0.000000e+00  \n",
       "max                   3.000000e+05  1.000000e+00  "
      ]
     },
     "execution_count": 14,
     "metadata": {},
     "output_type": "execute_result"
    }
   ],
   "source": [
    "df_train.describe()"
   ]
  },
  {
   "cell_type": "markdown",
   "id": "2e2cf829",
   "metadata": {},
   "source": [
    "### Посмотрим, есть ли в данных выбросы или аномалии."
   ]
  },
  {
   "cell_type": "code",
   "execution_count": 15,
   "id": "6984e959",
   "metadata": {},
   "outputs": [],
   "source": [
    "# #строим для этого боксплоты для каждой нашей фичи.\n",
    "# sns.boxplot(data=df_train);"
   ]
  },
  {
   "cell_type": "code",
   "execution_count": 16,
   "id": "89783155",
   "metadata": {},
   "outputs": [],
   "source": [
    "# # Также можно посмотреть как именно распределены наши данные\n",
    "# sns.kdeplot(data=df_train);"
   ]
  },
  {
   "cell_type": "code",
   "execution_count": 17,
   "id": "76360969",
   "metadata": {},
   "outputs": [],
   "source": [
    "columns = df_train.columns"
   ]
  },
  {
   "cell_type": "code",
   "execution_count": 18,
   "id": "b838c0ba",
   "metadata": {},
   "outputs": [
    {
     "data": {
      "image/png": "[encoded data removed]",
      "text/plain": [
       "<Figure size 720x720 with 2 Axes>"
      ]
     },
     "metadata": {
      "needs_background": "light"
     },
     "output_type": "display_data"
    }
   ],
   "source": [
    "# В конце еще посмотрим на матрицу корреляций наших фичей\n",
    "cmatrix = df_train[columns].corr() * 100\n",
    "    \n",
    "cmap = LinearSegmentedColormap.from_list('RedGreenRed', ['crimson', 'yellow', 'yellow', 'yellow', 'yellow',\n",
    "                                                             'yellowgreen', 'yellowgreen', 'yellowgreen', 'yellowgreen', 'yellowgreen',\n",
    "                                                             'yellowgreen', 'yellowgreen', 'yellowgreen', 'yellowgreen', 'yellowgreen',\n",
    "                                                             'yellow', 'yellow', 'yellow', 'yellow', 'crimson'], 20)\n",
    "\n",
    "mask = np.triu(np.ones(cmatrix.shape[0]), k=0)\n",
    "\n",
    "fig, ax = plt.subplots(figsize=(10, 10))\n",
    "\n",
    "sns.heatmap(ax=ax, data=cmatrix, cmap=cmap, \n",
    "                vmin=-100, vmax=100, linewidths=.5, \n",
    "                square=True, annot=True, \n",
    "                mask=mask, annot_kws={'size':35 / math.sqrt(cmatrix.shape[0])})\n",
    "\n",
    "colorbar = ax.collections[0].colorbar\n",
    "colorbar.set_ticks([-100, -90, -50, 0, 50, 90, 100])\n",
    "plt.show()"
   ]
  },
  {
   "cell_type": "markdown",
   "id": "96cb3d1f",
   "metadata": {},
   "source": [
    "### Можно посмотреть на 15 самых активных студентов."
   ]
  },
  {
   "cell_type": "code",
   "execution_count": 19,
   "id": "9ce9d02a",
   "metadata": {},
   "outputs": [
    {
     "data": {
      "text/html": [
       "<div>\n",
       "<style scoped>\n",
       "    .dataframe tbody tr th:only-of-type {\n",
       "        vertical-align: middle;\n",
       "    }\n",
       "\n",
       "    .dataframe tbody tr th {\n",
       "        vertical-align: top;\n",
       "    }\n",
       "\n",
       "    .dataframe thead th {\n",
       "        text-align: right;\n",
       "    }\n",
       "</style>\n",
       "<table border=\"1\" class=\"dataframe\">\n",
       "  <thead>\n",
       "    <tr style=\"text-align: right;\">\n",
       "      <th></th>\n",
       "      <th>user_id</th>\n",
       "      <th>actions_count</th>\n",
       "    </tr>\n",
       "  </thead>\n",
       "  <tbody>\n",
       "    <tr>\n",
       "      <th>0</th>\n",
       "      <td>801103753</td>\n",
       "      <td>1823</td>\n",
       "    </tr>\n",
       "    <tr>\n",
       "      <th>1</th>\n",
       "      <td>455973631</td>\n",
       "      <td>1731</td>\n",
       "    </tr>\n",
       "    <tr>\n",
       "      <th>2</th>\n",
       "      <td>1743444187</td>\n",
       "      <td>1671</td>\n",
       "    </tr>\n",
       "    <tr>\n",
       "      <th>3</th>\n",
       "      <td>2146130037</td>\n",
       "      <td>1670</td>\n",
       "    </tr>\n",
       "    <tr>\n",
       "      <th>4</th>\n",
       "      <td>1842816145</td>\n",
       "      <td>1645</td>\n",
       "    </tr>\n",
       "    <tr>\n",
       "      <th>5</th>\n",
       "      <td>1660941992</td>\n",
       "      <td>1615</td>\n",
       "    </tr>\n",
       "    <tr>\n",
       "      <th>6</th>\n",
       "      <td>870330384</td>\n",
       "      <td>1614</td>\n",
       "    </tr>\n",
       "    <tr>\n",
       "      <th>7</th>\n",
       "      <td>1547278749</td>\n",
       "      <td>1610</td>\n",
       "    </tr>\n",
       "    <tr>\n",
       "      <th>8</th>\n",
       "      <td>338684437</td>\n",
       "      <td>1604</td>\n",
       "    </tr>\n",
       "    <tr>\n",
       "      <th>9</th>\n",
       "      <td>1047202059</td>\n",
       "      <td>1604</td>\n",
       "    </tr>\n",
       "    <tr>\n",
       "      <th>10</th>\n",
       "      <td>2139561972</td>\n",
       "      <td>1603</td>\n",
       "    </tr>\n",
       "    <tr>\n",
       "      <th>11</th>\n",
       "      <td>1615528747</td>\n",
       "      <td>1601</td>\n",
       "    </tr>\n",
       "    <tr>\n",
       "      <th>12</th>\n",
       "      <td>1478712595</td>\n",
       "      <td>1583</td>\n",
       "    </tr>\n",
       "    <tr>\n",
       "      <th>13</th>\n",
       "      <td>758801035</td>\n",
       "      <td>1558</td>\n",
       "    </tr>\n",
       "    <tr>\n",
       "      <th>14</th>\n",
       "      <td>73289878</td>\n",
       "      <td>1557</td>\n",
       "    </tr>\n",
       "  </tbody>\n",
       "</table>\n",
       "</div>"
      ],
      "text/plain": [
       "       user_id  actions_count\n",
       "0    801103753           1823\n",
       "1    455973631           1731\n",
       "2   1743444187           1671\n",
       "3   2146130037           1670\n",
       "4   1842816145           1645\n",
       "5   1660941992           1615\n",
       "6    870330384           1614\n",
       "7   1547278749           1610\n",
       "8    338684437           1604\n",
       "9   1047202059           1604\n",
       "10  2139561972           1603\n",
       "11  1615528747           1601\n",
       "12  1478712595           1583\n",
       "13   758801035           1558\n",
       "14    73289878           1557"
      ]
     },
     "execution_count": 19,
     "metadata": {},
     "output_type": "execute_result"
    }
   ],
   "source": [
    "users = df_train[\"user_id\"].value_counts().reset_index()\n",
    "users.columns = [\"user_id\", \"actions_count\"]\n",
    "\n",
    "\n",
    "users_top_15 = users.head(15)\n",
    "users_top_15"
   ]
  },
  {
   "cell_type": "code",
   "execution_count": 20,
   "id": "73d83581",
   "metadata": {},
   "outputs": [
    {
     "data": {
      "image/png": "[encoded data removed]",
      "text/plain": [
       "<Figure size 936x576 with 1 Axes>"
      ]
     },
     "metadata": {
      "needs_background": "light"
     },
     "output_type": "display_data"
    }
   ],
   "source": [
    "#построим гистограмму\n",
    "fig = plt.figure(figsize=(13,8))\n",
    "x = users_top_15[\"actions_count\"]\n",
    "y = users_top_15[\"user_id\"]\n",
    "sns.barplot(data=users_top_15, x = x, y = y, orient=\"h\")\n",
    "plt.title(\"Гистограмма активности пользователей, ТОП-15\", fontsize=23)\n",
    "plt.xlabel(\"Количество активностей\", fontsize=13)\n",
    "plt.ylabel(\"ИД пользователей\", fontsize=13)\n",
    "plt.show()"
   ]
  },
  {
   "cell_type": "code",
   "execution_count": 21,
   "id": "7dac2f7a",
   "metadata": {},
   "outputs": [
    {
     "name": "stdout",
     "output_type": "stream",
     "text": [
      "Колличество студентов, забросивших учебу: 40778, что составляет 10.89%\n"
     ]
    }
   ],
   "source": [
    "# сколько студентов забросило учебу\n",
    "drop = users[users.actions_count == 1].shape[0]\n",
    "percent = users[users.actions_count == 1].shape[0] / users.shape[0] * 100\n",
    "percent = round(percent, 2)\n",
    "print(f'Колличество студентов, забросивших учебу: {drop}, что составляет {percent}%')"
   ]
  },
  {
   "cell_type": "code",
   "execution_count": 22,
   "id": "a8260f83",
   "metadata": {},
   "outputs": [
    {
     "data": {
      "image/png": "[encoded data removed]",
      "text/plain": [
       "<Figure size 936x576 with 1 Axes>"
      ]
     },
     "metadata": {
      "needs_background": "light"
     },
     "output_type": "display_data"
    }
   ],
   "source": [
    "# также посмотрим на популярный контент\n",
    "content = df_train[\"content_id\"].value_counts().reset_index()\n",
    "content.columns = [\"content_id\", \"content_count\"]\n",
    "content_top_15 = content.head(15)\n",
    "\n",
    "fig = plt.figure(figsize=(13,8))\n",
    "x = content_top_15[\"content_count\"]\n",
    "y = content_top_15[\"content_id\"]\n",
    "sns.barplot(data=content_top_15, x = x, y = y, orient=\"h\")\n",
    "plt.title(\"Гистограмма популярного контента, ТОП-15\", fontsize=23)\n",
    "plt.xlabel(\"Количество раз использования контента\", fontsize=13)\n",
    "plt.ylabel(\"ИД контента\", fontsize=13)\n",
    "plt.show()"
   ]
  },
  {
   "cell_type": "code",
   "execution_count": 23,
   "id": "051c0bc7",
   "metadata": {},
   "outputs": [
    {
     "data": {
      "text/html": [
       "<div>\n",
       "<style scoped>\n",
       "    .dataframe tbody tr th:only-of-type {\n",
       "        vertical-align: middle;\n",
       "    }\n",
       "\n",
       "    .dataframe tbody tr th {\n",
       "        vertical-align: top;\n",
       "    }\n",
       "\n",
       "    .dataframe thead th {\n",
       "        text-align: right;\n",
       "    }\n",
       "</style>\n",
       "<table border=\"1\" class=\"dataframe\">\n",
       "  <thead>\n",
       "    <tr style=\"text-align: right;\">\n",
       "      <th></th>\n",
       "      <th>content_id</th>\n",
       "      <th>content_questions</th>\n",
       "      <th>content_mean</th>\n",
       "    </tr>\n",
       "  </thead>\n",
       "  <tbody>\n",
       "    <tr>\n",
       "      <th>0</th>\n",
       "      <td>0</td>\n",
       "      <td>648</td>\n",
       "      <td>0.896605</td>\n",
       "    </tr>\n",
       "    <tr>\n",
       "      <th>1</th>\n",
       "      <td>1</td>\n",
       "      <td>728</td>\n",
       "      <td>0.894231</td>\n",
       "    </tr>\n",
       "    <tr>\n",
       "      <th>2</th>\n",
       "      <td>2</td>\n",
       "      <td>4493</td>\n",
       "      <td>0.550634</td>\n",
       "    </tr>\n",
       "    <tr>\n",
       "      <th>3</th>\n",
       "      <td>3</td>\n",
       "      <td>2339</td>\n",
       "      <td>0.775545</td>\n",
       "    </tr>\n",
       "    <tr>\n",
       "      <th>4</th>\n",
       "      <td>4</td>\n",
       "      <td>3164</td>\n",
       "      <td>0.609671</td>\n",
       "    </tr>\n",
       "    <tr>\n",
       "      <th>...</th>\n",
       "      <td>...</td>\n",
       "      <td>...</td>\n",
       "      <td>...</td>\n",
       "    </tr>\n",
       "    <tr>\n",
       "      <th>13502</th>\n",
       "      <td>13518</td>\n",
       "      <td>104</td>\n",
       "      <td>0.846154</td>\n",
       "    </tr>\n",
       "    <tr>\n",
       "      <th>13503</th>\n",
       "      <td>13519</td>\n",
       "      <td>89</td>\n",
       "      <td>0.539326</td>\n",
       "    </tr>\n",
       "    <tr>\n",
       "      <th>13504</th>\n",
       "      <td>13520</td>\n",
       "      <td>77</td>\n",
       "      <td>0.636364</td>\n",
       "    </tr>\n",
       "    <tr>\n",
       "      <th>13505</th>\n",
       "      <td>13521</td>\n",
       "      <td>76</td>\n",
       "      <td>0.776316</td>\n",
       "    </tr>\n",
       "    <tr>\n",
       "      <th>13506</th>\n",
       "      <td>13522</td>\n",
       "      <td>88</td>\n",
       "      <td>0.943182</td>\n",
       "    </tr>\n",
       "  </tbody>\n",
       "</table>\n",
       "<p>13507 rows × 3 columns</p>\n",
       "</div>"
      ],
      "text/plain": [
       "       content_id  content_questions  content_mean\n",
       "0               0                648      0.896605\n",
       "1               1                728      0.894231\n",
       "2               2               4493      0.550634\n",
       "3               3               2339      0.775545\n",
       "4               4               3164      0.609671\n",
       "...           ...                ...           ...\n",
       "13502       13518                104      0.846154\n",
       "13503       13519                 89      0.539326\n",
       "13504       13520                 77      0.636364\n",
       "13505       13521                 76      0.776316\n",
       "13506       13522                 88      0.943182\n",
       "\n",
       "[13507 rows x 3 columns]"
      ]
     },
     "execution_count": 23,
     "metadata": {},
     "output_type": "execute_result"
    }
   ],
   "source": [
    "# посмотрим как отвечали пользователи\n",
    "content_df = df_train[df_train.answered_correctly != -1].groupby('content_id').agg(\n",
    "    {'answered_correctly': ['count', 'mean']}\n",
    ").reset_index()\n",
    "content_df.columns = ['content_id', 'content_questions', 'content_mean']\n",
    "content_df"
   ]
  },
  {
   "cell_type": "code",
   "execution_count": 24,
   "id": "721073a8",
   "metadata": {},
   "outputs": [
    {
     "data": {
      "text/html": [
       "<div>\n",
       "<style scoped>\n",
       "    .dataframe tbody tr th:only-of-type {\n",
       "        vertical-align: middle;\n",
       "    }\n",
       "\n",
       "    .dataframe tbody tr th {\n",
       "        vertical-align: top;\n",
       "    }\n",
       "\n",
       "    .dataframe thead th {\n",
       "        text-align: right;\n",
       "    }\n",
       "</style>\n",
       "<table border=\"1\" class=\"dataframe\">\n",
       "  <thead>\n",
       "    <tr style=\"text-align: right;\">\n",
       "      <th></th>\n",
       "      <th>content_type</th>\n",
       "      <th>content_count</th>\n",
       "    </tr>\n",
       "  </thead>\n",
       "  <tbody>\n",
       "    <tr>\n",
       "      <th>0</th>\n",
       "      <td>0</td>\n",
       "      <td>9927793</td>\n",
       "    </tr>\n",
       "    <tr>\n",
       "      <th>1</th>\n",
       "      <td>1</td>\n",
       "      <td>195922</td>\n",
       "    </tr>\n",
       "  </tbody>\n",
       "</table>\n",
       "</div>"
      ],
      "text/plain": [
       "   content_type  content_count\n",
       "0             0        9927793\n",
       "1             1         195922"
      ]
     },
     "execution_count": 24,
     "metadata": {},
     "output_type": "execute_result"
    }
   ],
   "source": [
    "# посмотрим на распределение контента \n",
    "content_type = df_train[\"content_type_id\"].value_counts().reset_index()\n",
    "content_type.columns = [\"content_type\", \"content_count\"]\n",
    "content_type"
   ]
  },
  {
   "cell_type": "code",
   "execution_count": 25,
   "id": "087d9223",
   "metadata": {},
   "outputs": [
    {
     "data": {
      "image/png": "[encoded data removed]",
      "text/plain": [
       "<Figure size 936x576 with 1 Axes>"
      ]
     },
     "metadata": {
      "needs_background": "light"
     },
     "output_type": "display_data"
    }
   ],
   "source": [
    "fig = plt.figure(figsize=(13,8))\n",
    "x = \"content_type\"\n",
    "y = \"content_count\"\n",
    "sns.barplot(data=content_type, x = x, y = y)\n",
    "plt.title(\"Гистограмма распределения контента\", fontsize=23)\n",
    "plt.xlabel(\"Тип контента, 0 - вопрос, 1 - лекция\", fontsize=13)\n",
    "plt.ylabel(\"Количество\", fontsize=13)\n",
    "plt.show()"
   ]
  },
  {
   "cell_type": "code",
   "execution_count": 26,
   "id": "663ff50e",
   "metadata": {},
   "outputs": [
    {
     "data": {
      "image/png": "[encoded data removed]",
      "text/plain": [
       "<Figure size 936x576 with 1 Axes>"
      ]
     },
     "metadata": {
      "needs_background": "light"
     },
     "output_type": "display_data"
    }
   ],
   "source": [
    "# смотрим на топ task_container_id\n",
    "task_container_id = df_train[\"task_container_id\"].value_counts().reset_index()\n",
    "task_container_id.columns = [\"task_container_id\", \"task_container_count\"]\n",
    "task_container_id_top_15 = task_container_id.head(15)\n",
    "\n",
    "fig = plt.figure(figsize=(13,8))\n",
    "x = \"task_container_count\"\n",
    "y = \"task_container_id\"\n",
    "sns.barplot(data=task_container_id_top_15, x = x, y = y, orient=\"h\")\n",
    "plt.title(\"Гистограмма топ-15 task_container_id\", fontsize=23)\n",
    "plt.xlabel(\"Количество активностей\", fontsize=13)\n",
    "plt.ylabel(\"ИД пользователей\", fontsize=13)\n",
    "plt.show()"
   ]
  },
  {
   "cell_type": "code",
   "execution_count": 27,
   "id": "c8cf4d80",
   "metadata": {},
   "outputs": [
    {
     "data": {
      "text/html": [
       "<div>\n",
       "<style scoped>\n",
       "    .dataframe tbody tr th:only-of-type {\n",
       "        vertical-align: middle;\n",
       "    }\n",
       "\n",
       "    .dataframe tbody tr th {\n",
       "        vertical-align: top;\n",
       "    }\n",
       "\n",
       "    .dataframe thead th {\n",
       "        text-align: right;\n",
       "    }\n",
       "</style>\n",
       "<table border=\"1\" class=\"dataframe\">\n",
       "  <thead>\n",
       "    <tr style=\"text-align: right;\">\n",
       "      <th></th>\n",
       "      <th>user_answer</th>\n",
       "      <th>user_answer_count</th>\n",
       "    </tr>\n",
       "  </thead>\n",
       "  <tbody>\n",
       "    <tr>\n",
       "      <th>0</th>\n",
       "      <td>0</td>\n",
       "      <td>2817481</td>\n",
       "    </tr>\n",
       "    <tr>\n",
       "      <th>1</th>\n",
       "      <td>1</td>\n",
       "      <td>2699153</td>\n",
       "    </tr>\n",
       "    <tr>\n",
       "      <th>2</th>\n",
       "      <td>3</td>\n",
       "      <td>2610314</td>\n",
       "    </tr>\n",
       "    <tr>\n",
       "      <th>3</th>\n",
       "      <td>2</td>\n",
       "      <td>1800845</td>\n",
       "    </tr>\n",
       "    <tr>\n",
       "      <th>4</th>\n",
       "      <td>-1</td>\n",
       "      <td>195922</td>\n",
       "    </tr>\n",
       "  </tbody>\n",
       "</table>\n",
       "</div>"
      ],
      "text/plain": [
       "   user_answer  user_answer_count\n",
       "0            0            2817481\n",
       "1            1            2699153\n",
       "2            3            2610314\n",
       "3            2            1800845\n",
       "4           -1             195922"
      ]
     },
     "execution_count": 27,
     "metadata": {},
     "output_type": "execute_result"
    }
   ],
   "source": [
    "# смотрим на ответы пользователей.\n",
    "user_answer = df_train[\"user_answer\"].value_counts().reset_index()\n",
    "user_answer.columns = [\"user_answer\", \"user_answer_count\"]\n",
    "user_answer"
   ]
  },
  {
   "cell_type": "code",
   "execution_count": 28,
   "id": "729b86aa",
   "metadata": {},
   "outputs": [
    {
     "data": {
      "image/png": "[encoded data removed]",
      "text/plain": [
       "<Figure size 936x576 with 1 Axes>"
      ]
     },
     "metadata": {
      "needs_background": "light"
     },
     "output_type": "display_data"
    }
   ],
   "source": [
    "#строим гистограмму распределение ответов пользователя\n",
    "fig = plt.figure(figsize=(13,8))\n",
    "x = \"user_answer\"\n",
    "y = \"user_answer_count\"\n",
    "sns.barplot(data=user_answer, x = x, y = y)\n",
    "plt.title(\"Гистограмма распределения ответов пользователя\", fontsize=23)\n",
    "plt.xlabel(\"Выбор ответа\", fontsize=13)\n",
    "plt.ylabel(\"Количество\", fontsize=13)\n",
    "plt.show()"
   ]
  },
  {
   "cell_type": "markdown",
   "id": "2070a64d",
   "metadata": {},
   "source": [
    "Мы видим, что чаще всего пользователи выбирали ответы 0 и 1, реже всего -1."
   ]
  },
  {
   "cell_type": "code",
   "execution_count": 29,
   "id": "46d3d7a9",
   "metadata": {},
   "outputs": [
    {
     "data": {
      "text/html": [
       "<div>\n",
       "<style scoped>\n",
       "    .dataframe tbody tr th:only-of-type {\n",
       "        vertical-align: middle;\n",
       "    }\n",
       "\n",
       "    .dataframe tbody tr th {\n",
       "        vertical-align: top;\n",
       "    }\n",
       "\n",
       "    .dataframe thead th {\n",
       "        text-align: right;\n",
       "    }\n",
       "</style>\n",
       "<table border=\"1\" class=\"dataframe\">\n",
       "  <thead>\n",
       "    <tr style=\"text-align: right;\">\n",
       "      <th></th>\n",
       "      <th>user_answer</th>\n",
       "      <th>user_answer_persent</th>\n",
       "    </tr>\n",
       "  </thead>\n",
       "  <tbody>\n",
       "    <tr>\n",
       "      <th>0</th>\n",
       "      <td>0</td>\n",
       "      <td>0.278305</td>\n",
       "    </tr>\n",
       "    <tr>\n",
       "      <th>1</th>\n",
       "      <td>1</td>\n",
       "      <td>0.266617</td>\n",
       "    </tr>\n",
       "    <tr>\n",
       "      <th>2</th>\n",
       "      <td>3</td>\n",
       "      <td>0.257842</td>\n",
       "    </tr>\n",
       "    <tr>\n",
       "      <th>3</th>\n",
       "      <td>2</td>\n",
       "      <td>0.177884</td>\n",
       "    </tr>\n",
       "    <tr>\n",
       "      <th>4</th>\n",
       "      <td>-1</td>\n",
       "      <td>0.019353</td>\n",
       "    </tr>\n",
       "  </tbody>\n",
       "</table>\n",
       "</div>"
      ],
      "text/plain": [
       "   user_answer  user_answer_persent\n",
       "0            0             0.278305\n",
       "1            1             0.266617\n",
       "2            3             0.257842\n",
       "3            2             0.177884\n",
       "4           -1             0.019353"
      ]
     },
     "execution_count": 29,
     "metadata": {},
     "output_type": "execute_result"
    }
   ],
   "source": [
    "# посмотрим на процент\n",
    "user_answer1 = df_train[\"user_answer\"].value_counts(normalize=True).reset_index()\n",
    "user_answer1.columns = [\"user_answer\", \"user_answer_persent\"]\n",
    "user_answer1"
   ]
  },
  {
   "cell_type": "code",
   "execution_count": 30,
   "id": "34416893",
   "metadata": {},
   "outputs": [
    {
     "name": "stdout",
     "output_type": "stream",
     "text": [
      "Максимальное количество вопросов на которые ответил пользователь 1797\n"
     ]
    }
   ],
   "source": [
    "user_percents = df_train[df_train.answered_correctly != -1].groupby('user_id')['answered_correctly'].agg(Mean='mean', Answers='count')\n",
    "print(f'Максимальное количество вопросов на которые ответил пользователь {user_percents.Answers.max()}')"
   ]
  },
  {
   "cell_type": "markdown",
   "id": "fd68b2ad",
   "metadata": {},
   "source": [
    "### Теперь посмотрим на среднее время затраченное пользователем на ответ."
   ]
  },
  {
   "cell_type": "code",
   "execution_count": 31,
   "id": "ef03eea7",
   "metadata": {},
   "outputs": [
    {
     "data": {
      "image/png": "[encoded data removed]",
      "text/plain": [
       "<Figure size 936x432 with 1 Axes>"
      ]
     },
     "metadata": {
      "needs_background": "light"
     },
     "output_type": "display_data"
    }
   ],
   "source": [
    "fig = plt.figure(figsize=(13,6))\n",
    "(df_train[\"prior_question_elapsed_time\"] / 60000).plot.hist(bins=100)\n",
    "plt.title(\"Гистограмма среднего времени затраченного пользователем на ответ\")\n",
    "plt.xticks(rotation=0)\n",
    "plt.xlabel(\"Среднее время в минутах\")\n",
    "plt.show()"
   ]
  },
  {
   "cell_type": "markdown",
   "id": "bab52a48",
   "metadata": {},
   "source": [
    "Из гистограммы следует, что чаще всего ответ дается в первую минуту"
   ]
  },
  {
   "cell_type": "code",
   "execution_count": 32,
   "id": "f83b8237",
   "metadata": {},
   "outputs": [
    {
     "data": {
      "text/html": [
       "<div>\n",
       "<style scoped>\n",
       "    .dataframe tbody tr th:only-of-type {\n",
       "        vertical-align: middle;\n",
       "    }\n",
       "\n",
       "    .dataframe tbody tr th {\n",
       "        vertical-align: top;\n",
       "    }\n",
       "\n",
       "    .dataframe thead th {\n",
       "        text-align: right;\n",
       "    }\n",
       "</style>\n",
       "<table border=\"1\" class=\"dataframe\">\n",
       "  <thead>\n",
       "    <tr style=\"text-align: right;\">\n",
       "      <th></th>\n",
       "      <th>index</th>\n",
       "      <th>prior_question_had_explanation</th>\n",
       "    </tr>\n",
       "  </thead>\n",
       "  <tbody>\n",
       "    <tr>\n",
       "      <th>0</th>\n",
       "      <td>True</td>\n",
       "      <td>10123715</td>\n",
       "    </tr>\n",
       "  </tbody>\n",
       "</table>\n",
       "</div>"
      ],
      "text/plain": [
       "   index  prior_question_had_explanation\n",
       "0   True                        10123715"
      ]
     },
     "execution_count": 32,
     "metadata": {},
     "output_type": "execute_result"
    }
   ],
   "source": [
    "# последнее на что смотрм - это prior_question_had_explanation\n",
    "prior_question_had_explanation = df_train[\"prior_question_had_explanation\"].value_counts().reset_index()\n",
    "prior_question_had_explanation"
   ]
  },
  {
   "cell_type": "markdown",
   "id": "7befc825",
   "metadata": {},
   "source": [
    "### Переходим к анализу датасета questions"
   ]
  },
  {
   "cell_type": "code",
   "execution_count": 33,
   "id": "67996fb4",
   "metadata": {},
   "outputs": [
    {
     "name": "stdout",
     "output_type": "stream",
     "text": [
      "<class 'pandas.core.frame.DataFrame'>\n",
      "RangeIndex: 13523 entries, 0 to 13522\n",
      "Data columns (total 5 columns):\n",
      " #   Column          Non-Null Count  Dtype \n",
      "---  ------          --------------  ----- \n",
      " 0   question_id     13523 non-null  int64 \n",
      " 1   bundle_id       13523 non-null  int64 \n",
      " 2   correct_answer  13523 non-null  int64 \n",
      " 3   part            13523 non-null  int64 \n",
      " 4   tags            13522 non-null  object\n",
      "dtypes: int64(4), object(1)\n",
      "memory usage: 528.4+ KB\n"
     ]
    }
   ],
   "source": [
    "df_questions.info()"
   ]
  },
  {
   "cell_type": "code",
   "execution_count": 34,
   "id": "b6a59467",
   "metadata": {},
   "outputs": [
    {
     "data": {
      "text/html": [
       "<div>\n",
       "<style scoped>\n",
       "    .dataframe tbody tr th:only-of-type {\n",
       "        vertical-align: middle;\n",
       "    }\n",
       "\n",
       "    .dataframe tbody tr th {\n",
       "        vertical-align: top;\n",
       "    }\n",
       "\n",
       "    .dataframe thead th {\n",
       "        text-align: right;\n",
       "    }\n",
       "</style>\n",
       "<table border=\"1\" class=\"dataframe\">\n",
       "  <thead>\n",
       "    <tr style=\"text-align: right;\">\n",
       "      <th></th>\n",
       "      <th>question_id</th>\n",
       "      <th>bundle_id</th>\n",
       "      <th>correct_answer</th>\n",
       "      <th>part</th>\n",
       "    </tr>\n",
       "  </thead>\n",
       "  <tbody>\n",
       "    <tr>\n",
       "      <th>count</th>\n",
       "      <td>13523.00000</td>\n",
       "      <td>13523.000000</td>\n",
       "      <td>13523.000000</td>\n",
       "      <td>13523.000000</td>\n",
       "    </tr>\n",
       "    <tr>\n",
       "      <th>mean</th>\n",
       "      <td>6761.00000</td>\n",
       "      <td>6760.510907</td>\n",
       "      <td>1.455298</td>\n",
       "      <td>4.264956</td>\n",
       "    </tr>\n",
       "    <tr>\n",
       "      <th>std</th>\n",
       "      <td>3903.89818</td>\n",
       "      <td>3903.857783</td>\n",
       "      <td>1.149707</td>\n",
       "      <td>1.652553</td>\n",
       "    </tr>\n",
       "    <tr>\n",
       "      <th>min</th>\n",
       "      <td>0.00000</td>\n",
       "      <td>0.000000</td>\n",
       "      <td>0.000000</td>\n",
       "      <td>1.000000</td>\n",
       "    </tr>\n",
       "    <tr>\n",
       "      <th>25%</th>\n",
       "      <td>3380.50000</td>\n",
       "      <td>3379.500000</td>\n",
       "      <td>0.000000</td>\n",
       "      <td>3.000000</td>\n",
       "    </tr>\n",
       "    <tr>\n",
       "      <th>50%</th>\n",
       "      <td>6761.00000</td>\n",
       "      <td>6761.000000</td>\n",
       "      <td>1.000000</td>\n",
       "      <td>5.000000</td>\n",
       "    </tr>\n",
       "    <tr>\n",
       "      <th>75%</th>\n",
       "      <td>10141.50000</td>\n",
       "      <td>10140.000000</td>\n",
       "      <td>3.000000</td>\n",
       "      <td>5.000000</td>\n",
       "    </tr>\n",
       "    <tr>\n",
       "      <th>max</th>\n",
       "      <td>13522.00000</td>\n",
       "      <td>13522.000000</td>\n",
       "      <td>3.000000</td>\n",
       "      <td>7.000000</td>\n",
       "    </tr>\n",
       "  </tbody>\n",
       "</table>\n",
       "</div>"
      ],
      "text/plain": [
       "       question_id     bundle_id  correct_answer          part\n",
       "count  13523.00000  13523.000000    13523.000000  13523.000000\n",
       "mean    6761.00000   6760.510907        1.455298      4.264956\n",
       "std     3903.89818   3903.857783        1.149707      1.652553\n",
       "min        0.00000      0.000000        0.000000      1.000000\n",
       "25%     3380.50000   3379.500000        0.000000      3.000000\n",
       "50%     6761.00000   6761.000000        1.000000      5.000000\n",
       "75%    10141.50000  10140.000000        3.000000      5.000000\n",
       "max    13522.00000  13522.000000        3.000000      7.000000"
      ]
     },
     "execution_count": 34,
     "metadata": {},
     "output_type": "execute_result"
    }
   ],
   "source": [
    "df_questions.describe()"
   ]
  },
  {
   "cell_type": "code",
   "execution_count": 35,
   "id": "5fb8aee0",
   "metadata": {},
   "outputs": [
    {
     "data": {
      "text/plain": [
       "<AxesSubplot:>"
      ]
     },
     "execution_count": 35,
     "metadata": {},
     "output_type": "execute_result"
    },
    {
     "data": {
      "image/png": "[encoded data removed]",
      "text/plain": [
       "<Figure size 432x288 with 2 Axes>"
      ]
     },
     "metadata": {
      "needs_background": "light"
     },
     "output_type": "display_data"
    }
   ],
   "source": [
    "# построим матрицу корреляций\n",
    "# в привычном нам виде.\n",
    "\n",
    "matrix = np.triu(df_questions.corr())\n",
    "sns.heatmap(df_questions.corr(), annot=True, mask=matrix)"
   ]
  },
  {
   "cell_type": "markdown",
   "id": "609ec05a",
   "metadata": {},
   "source": [
    "Фичи `question_id` и `bundle_id` дублируют друг друга."
   ]
  },
  {
   "cell_type": "code",
   "execution_count": 36,
   "id": "2e7d96a0",
   "metadata": {},
   "outputs": [],
   "source": [
    "# создадим новый столбец с количеством тегов вопросов\n",
    "df_questions['tag'] = df_questions['tags'].str.split(' ')\n",
    "df_questions = df_questions.explode('tag')\n",
    "df_questions = pd.merge(df_questions, df_questions.groupby('question_id')['tag'].count().reset_index(), on='question_id')\n",
    "\n",
    "df_questions = df_questions.drop(['tag_x'], axis=1)\n",
    "\n",
    "df_questions.columns = [\n",
    "    'question_id', \n",
    "    'bundle_id', \n",
    "    'correct_answer', \n",
    "    'part', \n",
    "    'tags', \n",
    "    'tags_number'\n",
    "]"
   ]
  },
  {
   "cell_type": "code",
   "execution_count": 37,
   "id": "2614064a",
   "metadata": {},
   "outputs": [
    {
     "data": {
      "text/html": [
       "<div>\n",
       "<style scoped>\n",
       "    .dataframe tbody tr th:only-of-type {\n",
       "        vertical-align: middle;\n",
       "    }\n",
       "\n",
       "    .dataframe tbody tr th {\n",
       "        vertical-align: top;\n",
       "    }\n",
       "\n",
       "    .dataframe thead th {\n",
       "        text-align: right;\n",
       "    }\n",
       "</style>\n",
       "<table border=\"1\" class=\"dataframe\">\n",
       "  <thead>\n",
       "    <tr style=\"text-align: right;\">\n",
       "      <th></th>\n",
       "      <th>question_id</th>\n",
       "      <th>bundle_id</th>\n",
       "      <th>correct_answer</th>\n",
       "      <th>part</th>\n",
       "      <th>tags</th>\n",
       "      <th>tags_number</th>\n",
       "    </tr>\n",
       "  </thead>\n",
       "  <tbody>\n",
       "    <tr>\n",
       "      <th>0</th>\n",
       "      <td>0</td>\n",
       "      <td>0</td>\n",
       "      <td>0</td>\n",
       "      <td>1</td>\n",
       "      <td>51 131 162 38</td>\n",
       "      <td>4</td>\n",
       "    </tr>\n",
       "    <tr>\n",
       "      <th>4</th>\n",
       "      <td>1</td>\n",
       "      <td>1</td>\n",
       "      <td>1</td>\n",
       "      <td>1</td>\n",
       "      <td>131 36 81</td>\n",
       "      <td>3</td>\n",
       "    </tr>\n",
       "  </tbody>\n",
       "</table>\n",
       "</div>"
      ],
      "text/plain": [
       "   question_id  bundle_id  correct_answer  part           tags  tags_number\n",
       "0            0          0               0     1  51 131 162 38            4\n",
       "4            1          1               1     1      131 36 81            3"
      ]
     },
     "execution_count": 37,
     "metadata": {},
     "output_type": "execute_result"
    }
   ],
   "source": [
    "# дропаем дубликаты\n",
    "df_questions = df_questions.drop_duplicates() \n",
    "df_questions.head(2)"
   ]
  },
  {
   "cell_type": "code",
   "execution_count": 38,
   "id": "f32dfebe",
   "metadata": {},
   "outputs": [
    {
     "data": {
      "image/png": "[encoded data removed]",
      "text/plain": [
       "<Figure size 936x576 with 1 Axes>"
      ]
     },
     "metadata": {
      "needs_background": "light"
     },
     "output_type": "display_data"
    }
   ],
   "source": [
    "# количество правильных ответов в группе.\n",
    "correct_answer = df_questions[\"correct_answer\"].value_counts().reset_index()\n",
    "correct_answer.columns = [\"correct_answer\", \"number_of_answers\"]\n",
    "\n",
    "fig = plt.figure(figsize=(13,8))\n",
    "x = \"correct_answer\"\n",
    "y = \"number_of_answers\"\n",
    "sns.barplot(data=correct_answer, x = x, y = y)\n",
    "plt.title(\"Гистограмма количество правильных ответов в группе\", fontsize=23)\n",
    "plt.xlabel(\"Номер ответа\", fontsize=13)\n",
    "plt.ylabel(\"Количество\", fontsize=13)\n",
    "plt.show()\n"
   ]
  },
  {
   "cell_type": "code",
   "execution_count": 39,
   "id": "0aec9421",
   "metadata": {},
   "outputs": [
    {
     "data": {
      "image/png": "[encoded data removed]",
      "text/plain": [
       "<Figure size 936x576 with 1 Axes>"
      ]
     },
     "metadata": {
      "needs_background": "light"
     },
     "output_type": "display_data"
    }
   ],
   "source": [
    "# распределение по TOEIC\n",
    "part = df_questions[\"part\"].value_counts().reset_index()\n",
    "part.columns = [\"part\", \"count\"]\n",
    "\n",
    "fig = plt.figure(figsize=(13,8))\n",
    "x = \"part\"\n",
    "y = \"count\"\n",
    "sns.barplot(data=part, x = x, y = y)\n",
    "plt.title(\"Гистограмма распределения по разделам TOEIC\", fontsize=23)\n",
    "plt.xlabel(\"Раздел теста TOEIC\", fontsize=13)\n",
    "plt.ylabel(\"Количество\", fontsize=13)\n",
    "plt.show()"
   ]
  },
  {
   "cell_type": "markdown",
   "id": "ba4fca15",
   "metadata": {},
   "source": [
    "Чаще всего использовались тесты 5 раздела, реже 1 раздела."
   ]
  },
  {
   "cell_type": "code",
   "execution_count": 40,
   "id": "466d598f",
   "metadata": {},
   "outputs": [
    {
     "data": {
      "image/png": "[encoded data removed]",
      "text/plain": [
       "<Figure size 936x576 with 1 Axes>"
      ]
     },
     "metadata": {
      "needs_background": "light"
     },
     "output_type": "display_data"
    }
   ],
   "source": [
    "# смотрим на количество тегов\n",
    "tags_number = df_questions[\"tags_number\"].value_counts().reset_index()\n",
    "tags_number.columns = [\"tags_number\", \"count\"]\n",
    "\n",
    "fig = plt.figure(figsize=(13,8))\n",
    "x = \"tags_number\"\n",
    "y = \"count\"\n",
    "sns.barplot(data=tags_number, x = x, y = y)\n",
    "plt.title(\"Гистограмма киличества тегов\", fontsize=23)\n",
    "plt.xlabel(\"Номера тегов\", fontsize=13)\n",
    "plt.ylabel(\"Количество\", fontsize=13)\n",
    "plt.show()"
   ]
  },
  {
   "cell_type": "markdown",
   "id": "7311faa5",
   "metadata": {},
   "source": [
    "### Переходим к анализу датасета lectures"
   ]
  },
  {
   "cell_type": "code",
   "execution_count": 41,
   "id": "ede5c9d3",
   "metadata": {},
   "outputs": [
    {
     "name": "stdout",
     "output_type": "stream",
     "text": [
      "<class 'pandas.core.frame.DataFrame'>\n",
      "RangeIndex: 418 entries, 0 to 417\n",
      "Data columns (total 4 columns):\n",
      " #   Column      Non-Null Count  Dtype \n",
      "---  ------      --------------  ----- \n",
      " 0   lecture_id  418 non-null    int64 \n",
      " 1   tag         418 non-null    int64 \n",
      " 2   part        418 non-null    int64 \n",
      " 3   type_of     418 non-null    object\n",
      "dtypes: int64(3), object(1)\n",
      "memory usage: 13.2+ KB\n"
     ]
    }
   ],
   "source": [
    "df_lectures.info()"
   ]
  },
  {
   "cell_type": "code",
   "execution_count": 42,
   "id": "6a3777e3",
   "metadata": {},
   "outputs": [
    {
     "data": {
      "text/html": [
       "<div>\n",
       "<style scoped>\n",
       "    .dataframe tbody tr th:only-of-type {\n",
       "        vertical-align: middle;\n",
       "    }\n",
       "\n",
       "    .dataframe tbody tr th {\n",
       "        vertical-align: top;\n",
       "    }\n",
       "\n",
       "    .dataframe thead th {\n",
       "        text-align: right;\n",
       "    }\n",
       "</style>\n",
       "<table border=\"1\" class=\"dataframe\">\n",
       "  <thead>\n",
       "    <tr style=\"text-align: right;\">\n",
       "      <th></th>\n",
       "      <th>lecture_id</th>\n",
       "      <th>tag</th>\n",
       "      <th>part</th>\n",
       "    </tr>\n",
       "  </thead>\n",
       "  <tbody>\n",
       "    <tr>\n",
       "      <th>count</th>\n",
       "      <td>418.000000</td>\n",
       "      <td>418.000000</td>\n",
       "      <td>418.000000</td>\n",
       "    </tr>\n",
       "    <tr>\n",
       "      <th>mean</th>\n",
       "      <td>16983.401914</td>\n",
       "      <td>94.480861</td>\n",
       "      <td>4.267943</td>\n",
       "    </tr>\n",
       "    <tr>\n",
       "      <th>std</th>\n",
       "      <td>9426.164660</td>\n",
       "      <td>53.586487</td>\n",
       "      <td>1.872424</td>\n",
       "    </tr>\n",
       "    <tr>\n",
       "      <th>min</th>\n",
       "      <td>89.000000</td>\n",
       "      <td>0.000000</td>\n",
       "      <td>1.000000</td>\n",
       "    </tr>\n",
       "    <tr>\n",
       "      <th>25%</th>\n",
       "      <td>9026.250000</td>\n",
       "      <td>50.250000</td>\n",
       "      <td>2.000000</td>\n",
       "    </tr>\n",
       "    <tr>\n",
       "      <th>50%</th>\n",
       "      <td>17161.500000</td>\n",
       "      <td>94.500000</td>\n",
       "      <td>5.000000</td>\n",
       "    </tr>\n",
       "    <tr>\n",
       "      <th>75%</th>\n",
       "      <td>24906.250000</td>\n",
       "      <td>140.000000</td>\n",
       "      <td>6.000000</td>\n",
       "    </tr>\n",
       "    <tr>\n",
       "      <th>max</th>\n",
       "      <td>32736.000000</td>\n",
       "      <td>187.000000</td>\n",
       "      <td>7.000000</td>\n",
       "    </tr>\n",
       "  </tbody>\n",
       "</table>\n",
       "</div>"
      ],
      "text/plain": [
       "         lecture_id         tag        part\n",
       "count    418.000000  418.000000  418.000000\n",
       "mean   16983.401914   94.480861    4.267943\n",
       "std     9426.164660   53.586487    1.872424\n",
       "min       89.000000    0.000000    1.000000\n",
       "25%     9026.250000   50.250000    2.000000\n",
       "50%    17161.500000   94.500000    5.000000\n",
       "75%    24906.250000  140.000000    6.000000\n",
       "max    32736.000000  187.000000    7.000000"
      ]
     },
     "execution_count": 42,
     "metadata": {},
     "output_type": "execute_result"
    }
   ],
   "source": [
    "df_lectures.describe()"
   ]
  },
  {
   "cell_type": "code",
   "execution_count": 43,
   "id": "8fb9edbd",
   "metadata": {},
   "outputs": [
    {
     "data": {
      "text/plain": [
       "<AxesSubplot:>"
      ]
     },
     "execution_count": 43,
     "metadata": {},
     "output_type": "execute_result"
    },
    {
     "data": {
      "image/png": "[encoded data removed]",
      "text/plain": [
       "<Figure size 432x288 with 2 Axes>"
      ]
     },
     "metadata": {
      "needs_background": "light"
     },
     "output_type": "display_data"
    }
   ],
   "source": [
    "mask = np.tril(df_lectures.corr())\n",
    "sns.heatmap(df_lectures.corr(), annot=True, mask=mask)"
   ]
  },
  {
   "cell_type": "code",
   "execution_count": 44,
   "id": "17e02abc",
   "metadata": {},
   "outputs": [
    {
     "data": {
      "text/plain": [
       "0"
      ]
     },
     "execution_count": 44,
     "metadata": {},
     "output_type": "execute_result"
    }
   ],
   "source": [
    "# проверим дубликаты\n",
    "df_lectures.duplicated().sum()"
   ]
  },
  {
   "cell_type": "code",
   "execution_count": 45,
   "id": "4f9001b8",
   "metadata": {},
   "outputs": [
    {
     "data": {
      "text/html": [
       "<div>\n",
       "<style scoped>\n",
       "    .dataframe tbody tr th:only-of-type {\n",
       "        vertical-align: middle;\n",
       "    }\n",
       "\n",
       "    .dataframe tbody tr th {\n",
       "        vertical-align: top;\n",
       "    }\n",
       "\n",
       "    .dataframe thead th {\n",
       "        text-align: right;\n",
       "    }\n",
       "</style>\n",
       "<table border=\"1\" class=\"dataframe\">\n",
       "  <thead>\n",
       "    <tr style=\"text-align: right;\">\n",
       "      <th></th>\n",
       "      <th>tag</th>\n",
       "      <th>count</th>\n",
       "    </tr>\n",
       "  </thead>\n",
       "  <tbody>\n",
       "    <tr>\n",
       "      <th>0</th>\n",
       "      <td>136</td>\n",
       "      <td>7</td>\n",
       "    </tr>\n",
       "    <tr>\n",
       "      <th>1</th>\n",
       "      <td>27</td>\n",
       "      <td>6</td>\n",
       "    </tr>\n",
       "    <tr>\n",
       "      <th>2</th>\n",
       "      <td>161</td>\n",
       "      <td>6</td>\n",
       "    </tr>\n",
       "    <tr>\n",
       "      <th>3</th>\n",
       "      <td>74</td>\n",
       "      <td>6</td>\n",
       "    </tr>\n",
       "    <tr>\n",
       "      <th>4</th>\n",
       "      <td>134</td>\n",
       "      <td>6</td>\n",
       "    </tr>\n",
       "    <tr>\n",
       "      <th>...</th>\n",
       "      <td>...</td>\n",
       "      <td>...</td>\n",
       "    </tr>\n",
       "    <tr>\n",
       "      <th>146</th>\n",
       "      <td>90</td>\n",
       "      <td>1</td>\n",
       "    </tr>\n",
       "    <tr>\n",
       "      <th>147</th>\n",
       "      <td>112</td>\n",
       "      <td>1</td>\n",
       "    </tr>\n",
       "    <tr>\n",
       "      <th>148</th>\n",
       "      <td>31</td>\n",
       "      <td>1</td>\n",
       "    </tr>\n",
       "    <tr>\n",
       "      <th>149</th>\n",
       "      <td>138</td>\n",
       "      <td>1</td>\n",
       "    </tr>\n",
       "    <tr>\n",
       "      <th>150</th>\n",
       "      <td>2</td>\n",
       "      <td>1</td>\n",
       "    </tr>\n",
       "  </tbody>\n",
       "</table>\n",
       "<p>151 rows × 2 columns</p>\n",
       "</div>"
      ],
      "text/plain": [
       "     tag  count\n",
       "0    136      7\n",
       "1     27      6\n",
       "2    161      6\n",
       "3     74      6\n",
       "4    134      6\n",
       "..   ...    ...\n",
       "146   90      1\n",
       "147  112      1\n",
       "148   31      1\n",
       "149  138      1\n",
       "150    2      1\n",
       "\n",
       "[151 rows x 2 columns]"
      ]
     },
     "execution_count": 45,
     "metadata": {},
     "output_type": "execute_result"
    }
   ],
   "source": [
    "# посмотрим признак tag\n",
    "lectures_tag = df_lectures[\"tag\"].value_counts().reset_index()\n",
    "lectures_tag.columns = [\"tag\", \"count\"]\n",
    "lectures_tag"
   ]
  },
  {
   "cell_type": "code",
   "execution_count": 46,
   "id": "a279efff",
   "metadata": {},
   "outputs": [
    {
     "data": {
      "image/png": "[encoded data removed]",
      "text/plain": [
       "<Figure size 936x576 with 1 Axes>"
      ]
     },
     "metadata": {
      "needs_background": "light"
     },
     "output_type": "display_data"
    }
   ],
   "source": [
    "# строим топ-15 tag\n",
    "lectures_tag_top_15 = lectures_tag.head(15)\n",
    "fig = plt.figure(figsize=(13,8))\n",
    "x = \"count\"\n",
    "y = \"tag\"\n",
    "sns.barplot(data=lectures_tag_top_15, x = x, y = y, orient=\"h\")\n",
    "plt.title(\"Гистограмма топ-15 tag\", fontsize=23)\n",
    "plt.xlabel(\"Количество тегов\", fontsize=13)\n",
    "plt.ylabel(\"TAG\", fontsize=13)\n",
    "plt.show()"
   ]
  },
  {
   "cell_type": "code",
   "execution_count": 48,
   "id": "04047c09",
   "metadata": {},
   "outputs": [
    {
     "data": {
      "image/png": "[encoded data removed]",
      "text/plain": [
       "<Figure size 936x576 with 1 Axes>"
      ]
     },
     "metadata": {
      "needs_background": "light"
     },
     "output_type": "display_data"
    }
   ],
   "source": [
    "# строим гистограмму фичи part\n",
    "lectures_part = df_lectures[\"part\"].value_counts().reset_index()\n",
    "lectures_part.columns = [\"part\", \"count\"]\n",
    "\n",
    "fig = plt.figure(figsize=(13,8))\n",
    "x = \"part\"\n",
    "y = \"count\"\n",
    "sns.barplot(data=lectures_part, x = x, y = y)\n",
    "plt.title(\"Гистограмма кодов категории\", fontsize=23)\n",
    "plt.xlabel(\"Номер кода\", fontsize=13)\n",
    "plt.ylabel(\"Количество\", fontsize=13)\n",
    "plt.show()"
   ]
  },
  {
   "cell_type": "code",
   "execution_count": 49,
   "id": "cd9dd4b2",
   "metadata": {},
   "outputs": [
    {
     "data": {
      "image/png": "[encoded data removed]",
      "text/plain": [
       "<Figure size 936x576 with 1 Axes>"
      ]
     },
     "metadata": {
      "needs_background": "light"
     },
     "output_type": "display_data"
    }
   ],
   "source": [
    "# строим последнюю гистограмму type_of\n",
    "lectures_type_of = df_lectures[\"type_of\"].value_counts().reset_index()\n",
    "lectures_type_of.columns = [\"type_of\", \"count\"]\n",
    "\n",
    "fig = plt.figure(figsize=(13,8))\n",
    "x = \"type_of\"\n",
    "y = \"count\"\n",
    "sns.barplot(data=lectures_type_of, x = x, y = y)\n",
    "plt.title(\"Гистограмма распределения кратких описаний лекций\", fontsize=23)\n",
    "plt.xlabel(\"Краткое описание лекции\", fontsize=13)\n",
    "plt.ylabel(\"Количество\", fontsize=13)\n",
    "plt.show()"
   ]
  }
 ],
 "metadata": {
  "kernelspec": {
   "display_name": "Python 3 (ipykernel)",
   "language": "python",
   "name": "python3"
  },
  "language_info": {
   "codemirror_mode": {
    "name": "ipython",
    "version": 3
   },
   "file_extension": ".py",
   "mimetype": "text/x-python",
   "name": "python",
   "nbconvert_exporter": "python",
   "pygments_lexer": "ipython3",
   "version": "3.9.12"
  }
 },
 "nbformat": 4,
 "nbformat_minor": 5
}
